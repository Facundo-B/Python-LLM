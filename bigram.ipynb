{
 "cells": [
  {
   "cell_type": "code",
   "execution_count": 28,
   "metadata": {},
   "outputs": [
    {
     "name": "stdout",
     "output_type": "stream",
     "text": [
      "cpu\n"
     ]
    }
   ],
   "source": [
    "import torch\n",
    "device = \"cuda\" if torch.cuda.is_available() else \"cpu\"\n",
    "print(device)"
   ]
  },
  {
   "cell_type": "code",
   "execution_count": 23,
   "metadata": {},
   "outputs": [
    {
     "name": "stdout",
     "output_type": "stream",
     "text": [
      "['\\n', ' ', '!', '(', ')', ',', '-', '.', ':', ';', '?', 'A', 'B', 'C', 'D', 'E', 'F', 'G', 'H', 'I', 'J', 'K', 'L', 'M', 'N', 'O', 'P', 'Q', 'R', 'S', 'T', 'U', 'V', 'W', 'X', 'Y', 'Z', 'a', 'b', 'c', 'd', 'e', 'f', 'g', 'h', 'i', 'j', 'k', 'l', 'm', 'n', 'o', 'p', 'q', 'r', 's', 't', 'u', 'v', 'w', 'x', 'y', 'z', '—', '‘', '’', '“', '”', '\\ufeff']\n",
      "69\n"
     ]
    }
   ],
   "source": [
    "with open(\"wizard_of_oz.txt\", encoding=\"utf-8\", mode=\"r\") as f:\n",
    "    text = f.read()\n",
    "chars = sorted(set(text))\n",
    "print(chars)\n",
    "print(len(chars))   "
   ]
  },
  {
   "cell_type": "code",
   "execution_count": 24,
   "metadata": {},
   "outputs": [],
   "source": [
    "#Building a char-level tokenizer\n",
    "str_to_int = { ch : i for i, ch in enumerate(chars)}\n",
    "int_to_str = { i : ch for i, ch in enumerate(chars)}\n",
    "\n",
    "encode = lambda str: [str_to_int[c] for c in str]\n",
    "decode = lambda int_list: \"\".join([int_to_str[i] for i in int_list])"
   ]
  },
  {
   "cell_type": "code",
   "execution_count": 25,
   "metadata": {},
   "outputs": [
    {
     "data": {
      "text/plain": [
       "tensor([68, 13, 44, 37, 52, 56, 41, 54,  1, 19,  0, 30, 44, 41,  1, 13, 61, 39,\n",
       "        48, 51, 50, 41,  0,  0,  0, 14, 51, 54, 51, 56, 44, 61,  1, 48, 45, 58,\n",
       "        41, 40,  1, 45, 50,  1, 56, 44, 41,  1, 49, 45, 40, 55, 56,  1, 51, 42,\n",
       "         1, 56, 44, 41,  1, 43, 54, 41, 37, 56,  1, 21, 37, 50, 55, 37, 55,  1,\n",
       "        52, 54, 37, 45, 54, 45, 41, 55,  5,  1, 59, 45, 56, 44,  1, 31, 50, 39,\n",
       "        48, 41,  0, 18, 41, 50, 54, 61,  5,  1], dtype=torch.int16)"
      ]
     },
     "execution_count": 25,
     "metadata": {},
     "output_type": "execute_result"
    }
   ],
   "source": [
    "data = torch.tensor(encode(text), dtype=torch.int16)\n",
    "data[:100]"
   ]
  },
  {
   "cell_type": "code",
   "execution_count": 35,
   "metadata": {},
   "outputs": [
    {
     "name": "stdout",
     "output_type": "stream",
     "text": [
      "[tensor([41, 55,  1, 37, 50, 40], dtype=torch.int16), tensor([61,  5,  0, 38, 41, 43], dtype=torch.int16), tensor([40,  1, 59, 45, 55, 44], dtype=torch.int16), tensor([56, 44, 37, 56,  1, 45], dtype=torch.int16)]\n",
      "inputs:\n",
      "tensor([[41, 55,  1, 37, 50, 40],\n",
      "        [61,  5,  0, 38, 41, 43],\n",
      "        [40,  1, 59, 45, 55, 44],\n",
      "        [56, 44, 37, 56,  1, 45]], dtype=torch.int16)\n",
      "targets:\n",
      "tensor([[55,  1, 37, 50, 40,  1],\n",
      "        [ 5,  0, 38, 41, 43, 45],\n",
      "        [ 1, 59, 45, 55, 44, 41],\n",
      "        [44, 37, 56,  1, 45, 56]], dtype=torch.int16)\n"
     ]
    }
   ],
   "source": [
    "#Train/Validation split\n",
    "\n",
    "n = int(0.8 * len(data))\n",
    "train_data = data[:n]\n",
    "val_data = data[n:]\n",
    "\n",
    "def get_batch(split, block_size, batch_size):\n",
    "    data = train_data if split == 'train' else val_data\n",
    "    ix = torch.randint(len(data) - block_size, (batch_size,)) #\"batch size\" indexes of characters in the corpus\n",
    "    #print(f\"ix: {ix}\")\n",
    "    x = torch.stack([data[i:i+block_size] for i in ix])\n",
    "    y = torch.stack([data[i+1:i+block_size+1] for i in ix])\n",
    "    x, y = x.to(device), y.to(device)\n",
    "    return x, y\n",
    "\n",
    "x, y = get_batch('train', 6, 4)\n",
    "print('inputs:')\n",
    "# print(x.shape)\n",
    "print(x)\n",
    "print('targets:')\n",
    "print(y)"
   ]
  },
  {
   "cell_type": "code",
   "execution_count": null,
   "metadata": {},
   "outputs": [],
   "source": []
  }
 ],
 "metadata": {
  "kernelspec": {
   "display_name": "fcc-pythonLLM",
   "language": "python",
   "name": "python3"
  },
  "language_info": {
   "codemirror_mode": {
    "name": "ipython",
    "version": 3
   },
   "file_extension": ".py",
   "mimetype": "text/x-python",
   "name": "python",
   "nbconvert_exporter": "python",
   "pygments_lexer": "ipython3",
   "version": "3.12.2"
  }
 },
 "nbformat": 4,
 "nbformat_minor": 2
}
